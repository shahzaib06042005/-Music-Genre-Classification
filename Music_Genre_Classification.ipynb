{
  "nbformat": 4,
  "nbformat_minor": 0,
  "metadata": {
    "colab": {
      "provenance": [],
      "authorship_tag": "ABX9TyOGEaotfErI9FL4CfTtNhRl",
      "include_colab_link": true
    },
    "kernelspec": {
      "name": "python3",
      "display_name": "Python 3"
    },
    "language_info": {
      "name": "python"
    }
  },
  "cells": [
    {
      "cell_type": "markdown",
      "metadata": {
        "id": "view-in-github",
        "colab_type": "text"
      },
      "source": [
        "<a href=\"https://colab.research.google.com/github/shahzaib06042005/-Music-Genre-Classification/blob/main/Music_Genre_Classification.ipynb\" target=\"_parent\"><img src=\"https://colab.research.google.com/assets/colab-badge.svg\" alt=\"Open In Colab\"/></a>"
      ]
    },
    {
      "cell_type": "code",
      "execution_count": 1,
      "metadata": {
        "colab": {
          "base_uri": "https://localhost:8080/"
        },
        "id": "SJv0ReHp9GSC",
        "outputId": "745f248f-2fd6-4884-d9fb-171f20d017c4"
      },
      "outputs": [
        {
          "output_type": "stream",
          "name": "stdout",
          "text": [
            "Mounted at /content/drive\n"
          ]
        }
      ],
      "source": [
        "from google.colab import drive\n",
        "drive.mount('/content/drive')\n"
      ]
    },
    {
      "cell_type": "code",
      "source": [
        "# Copy the file from Drive to Colab workspace (optional but faster)\n",
        "!cp \"/content/drive/MyDrive/kaggle/fma_metadata.zip\" .\n",
        "\n",
        "# Unzip\n",
        "!unzip -q fma_metadata.zip -d fma_metadata\n"
      ],
      "metadata": {
        "id": "CU7nYnNU9H8d"
      },
      "execution_count": 2,
      "outputs": []
    },
    {
      "cell_type": "code",
      "source": [
        "!pip install librosa matplotlib scikit-learn tensorflow --quiet\n"
      ],
      "metadata": {
        "collapsed": true,
        "id": "IGaddKPD9Ofj"
      },
      "execution_count": 5,
      "outputs": []
    },
    {
      "cell_type": "code",
      "source": [
        "import pandas as pd\n",
        "import numpy as np\n",
        "\n",
        "# Load precomputed features\n",
        "features = pd.read_csv('fma_metadata/fma_metadata/features.csv', index_col=0, header=[0, 1, 2])\n",
        "print(\"Features shape:\", features.shape)\n",
        "\n",
        "# Load genre labels\n",
        "tracks = pd.read_csv('fma_metadata/fma_metadata/tracks.csv', index_col=0, header=[0, 1])\n",
        "genre_labels = tracks['track']['genre_top']\n"
      ],
      "metadata": {
        "colab": {
          "base_uri": "https://localhost:8080/"
        },
        "id": "pP7ZNqjs-Tb5",
        "outputId": "b9c595ad-ef4f-48a6-9483-add0a1381866"
      },
      "execution_count": 9,
      "outputs": [
        {
          "output_type": "stream",
          "name": "stdout",
          "text": [
            "Features shape: (106574, 518)\n"
          ]
        }
      ]
    },
    {
      "cell_type": "code",
      "source": [
        "# Drop samples with missing genre\n",
        "genre_labels = genre_labels.dropna()\n",
        "\n",
        "# Filter features to include only these tracks\n",
        "features = features.loc[genre_labels.index]\n",
        "\n",
        "# Drop any remaining NaNs from features\n",
        "features = features.dropna()\n",
        "\n",
        "# Align genres again with filtered features\n",
        "genre_labels = genre_labels.loc[features.index]\n",
        "\n",
        "# Encode genre labels to integers\n",
        "from sklearn.preprocessing import LabelEncoder\n",
        "\n",
        "label_encoder = LabelEncoder()\n",
        "y = label_encoder.fit_transform(genre_labels)\n",
        "\n",
        "print(\"Genre classes:\", list(label_encoder.classes_))\n"
      ],
      "metadata": {
        "colab": {
          "base_uri": "https://localhost:8080/"
        },
        "id": "9MjTnzQ1_HtL",
        "outputId": "fe686159-2e12-4cdb-fff2-9e10a5f2fd23"
      },
      "execution_count": 10,
      "outputs": [
        {
          "output_type": "stream",
          "name": "stdout",
          "text": [
            "Genre classes: ['Blues', 'Classical', 'Country', 'Easy Listening', 'Electronic', 'Experimental', 'Folk', 'Hip-Hop', 'Instrumental', 'International', 'Jazz', 'Old-Time / Historic', 'Pop', 'Rock', 'Soul-RnB', 'Spoken']\n"
          ]
        }
      ]
    },
    {
      "cell_type": "code",
      "source": [
        "# Flatten multi-index columns\n",
        "X = features.copy()\n",
        "X.columns = ['_'.join(col).strip() for col in X.columns.values]\n",
        "X = X.values  # convert to numpy\n",
        "\n",
        "print(\"Final feature shape:\", X.shape)\n"
      ],
      "metadata": {
        "colab": {
          "base_uri": "https://localhost:8080/"
        },
        "id": "OyZ4dxMxBACq",
        "outputId": "904e7568-2df8-4670-ac3b-bb2c996e19cc"
      },
      "execution_count": 11,
      "outputs": [
        {
          "output_type": "stream",
          "name": "stdout",
          "text": [
            "Final feature shape: (49598, 518)\n"
          ]
        }
      ]
    },
    {
      "cell_type": "code",
      "source": [
        "from sklearn.ensemble import RandomForestClassifier\n",
        "from sklearn.model_selection import train_test_split\n",
        "from sklearn.metrics import classification_report, accuracy_score\n",
        "\n",
        "# Split data\n",
        "X_train, X_test, y_train, y_test = train_test_split(X, y, test_size=0.2, stratify=y, random_state=42)\n",
        "\n",
        "# Train model\n",
        "model = RandomForestClassifier(n_estimators=100, random_state=42)\n",
        "model.fit(X_train, y_train)\n",
        "\n",
        "# Predict\n",
        "y_pred = model.predict(X_test)\n",
        "\n",
        "# Evaluate\n",
        "print(\"Accuracy:\", accuracy_score(y_test, y_pred))\n",
        "print(classification_report(y_test, y_pred, target_names=label_encoder.classes_))\n"
      ],
      "metadata": {
        "colab": {
          "base_uri": "https://localhost:8080/"
        },
        "id": "2ZhxvtQkBDZX",
        "outputId": "ab0614a8-93fd-4882-b4d7-91c3f9a99648"
      },
      "execution_count": 12,
      "outputs": [
        {
          "output_type": "stream",
          "name": "stdout",
          "text": [
            "Accuracy: 0.6265120967741935\n",
            "                     precision    recall  f1-score   support\n",
            "\n",
            "              Blues       0.00      0.00      0.00        22\n",
            "          Classical       0.83      0.77      0.80       246\n",
            "            Country       1.00      0.03      0.05        39\n",
            "     Easy Listening       0.00      0.00      0.00         5\n",
            "         Electronic       0.59      0.69      0.63      1874\n",
            "       Experimental       0.53      0.72      0.61      2122\n",
            "               Folk       0.61      0.51      0.56       561\n",
            "            Hip-Hop       0.78      0.46      0.58       710\n",
            "       Instrumental       0.61      0.15      0.24       416\n",
            "      International       0.86      0.21      0.34       278\n",
            "               Jazz       1.00      0.04      0.08       114\n",
            "Old-Time / Historic       0.94      0.85      0.89       111\n",
            "                Pop       0.36      0.01      0.02       466\n",
            "               Rock       0.69      0.83      0.75      2836\n",
            "           Soul-RnB       0.00      0.00      0.00        35\n",
            "             Spoken       0.67      0.24      0.35        85\n",
            "\n",
            "           accuracy                           0.63      9920\n",
            "          macro avg       0.59      0.34      0.37      9920\n",
            "       weighted avg       0.63      0.63      0.59      9920\n",
            "\n"
          ]
        },
        {
          "output_type": "stream",
          "name": "stderr",
          "text": [
            "/usr/local/lib/python3.11/dist-packages/sklearn/metrics/_classification.py:1565: UndefinedMetricWarning: Precision is ill-defined and being set to 0.0 in labels with no predicted samples. Use `zero_division` parameter to control this behavior.\n",
            "  _warn_prf(average, modifier, f\"{metric.capitalize()} is\", len(result))\n",
            "/usr/local/lib/python3.11/dist-packages/sklearn/metrics/_classification.py:1565: UndefinedMetricWarning: Precision is ill-defined and being set to 0.0 in labels with no predicted samples. Use `zero_division` parameter to control this behavior.\n",
            "  _warn_prf(average, modifier, f\"{metric.capitalize()} is\", len(result))\n",
            "/usr/local/lib/python3.11/dist-packages/sklearn/metrics/_classification.py:1565: UndefinedMetricWarning: Precision is ill-defined and being set to 0.0 in labels with no predicted samples. Use `zero_division` parameter to control this behavior.\n",
            "  _warn_prf(average, modifier, f\"{metric.capitalize()} is\", len(result))\n"
          ]
        }
      ]
    },
    {
      "cell_type": "code",
      "source": [
        "import joblib\n",
        "joblib.dump(model, 'genre_rf_model.pkl')\n"
      ],
      "metadata": {
        "colab": {
          "base_uri": "https://localhost:8080/"
        },
        "id": "AcCWbhkaBH03",
        "outputId": "46d6c31b-63a8-481e-bbc0-fc4b2b31cfe0"
      },
      "execution_count": 13,
      "outputs": [
        {
          "output_type": "execute_result",
          "data": {
            "text/plain": [
              "['genre_rf_model.pkl']"
            ]
          },
          "metadata": {},
          "execution_count": 13
        }
      ]
    },
    {
      "cell_type": "code",
      "source": [
        "from google.colab import files\n",
        "files.download('genre_rf_model.pkl')\n"
      ],
      "metadata": {
        "colab": {
          "base_uri": "https://localhost:8080/",
          "height": 17
        },
        "id": "mvhR0dqfCCJv",
        "outputId": "bb0828b6-b33a-4886-8715-c6845906d118"
      },
      "execution_count": 14,
      "outputs": [
        {
          "output_type": "display_data",
          "data": {
            "text/plain": [
              "<IPython.core.display.Javascript object>"
            ],
            "application/javascript": [
              "\n",
              "    async function download(id, filename, size) {\n",
              "      if (!google.colab.kernel.accessAllowed) {\n",
              "        return;\n",
              "      }\n",
              "      const div = document.createElement('div');\n",
              "      const label = document.createElement('label');\n",
              "      label.textContent = `Downloading \"${filename}\": `;\n",
              "      div.appendChild(label);\n",
              "      const progress = document.createElement('progress');\n",
              "      progress.max = size;\n",
              "      div.appendChild(progress);\n",
              "      document.body.appendChild(div);\n",
              "\n",
              "      const buffers = [];\n",
              "      let downloaded = 0;\n",
              "\n",
              "      const channel = await google.colab.kernel.comms.open(id);\n",
              "      // Send a message to notify the kernel that we're ready.\n",
              "      channel.send({})\n",
              "\n",
              "      for await (const message of channel.messages) {\n",
              "        // Send a message to notify the kernel that we're ready.\n",
              "        channel.send({})\n",
              "        if (message.buffers) {\n",
              "          for (const buffer of message.buffers) {\n",
              "            buffers.push(buffer);\n",
              "            downloaded += buffer.byteLength;\n",
              "            progress.value = downloaded;\n",
              "          }\n",
              "        }\n",
              "      }\n",
              "      const blob = new Blob(buffers, {type: 'application/binary'});\n",
              "      const a = document.createElement('a');\n",
              "      a.href = window.URL.createObjectURL(blob);\n",
              "      a.download = filename;\n",
              "      div.appendChild(a);\n",
              "      a.click();\n",
              "      div.remove();\n",
              "    }\n",
              "  "
            ]
          },
          "metadata": {}
        },
        {
          "output_type": "display_data",
          "data": {
            "text/plain": [
              "<IPython.core.display.Javascript object>"
            ],
            "application/javascript": [
              "download(\"download_152ab6c7-a74a-439c-85ee-f27ee4eb6cbd\", \"genre_rf_model.pkl\", 305876121)"
            ]
          },
          "metadata": {}
        }
      ]
    },
    {
      "cell_type": "code",
      "source": [
        "import joblib\n",
        "\n",
        "# Load the saved model\n",
        "model = joblib.load('genre_rf_model.pkl')\n",
        "\n",
        "# Use it to predict (example)\n",
        "y_pred = model.predict(X_test)  # or new data\n"
      ],
      "metadata": {
        "id": "T25ohHruCMWh"
      },
      "execution_count": 15,
      "outputs": []
    },
    {
      "cell_type": "code",
      "source": [],
      "metadata": {
        "id": "YiyszWugEM7c"
      },
      "execution_count": null,
      "outputs": []
    }
  ]
}